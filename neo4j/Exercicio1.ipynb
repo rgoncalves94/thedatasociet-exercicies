{
 "cells": [
  {
   "cell_type": "markdown",
   "metadata": {},
   "source": [
    "# Exercício - Grafo contendo filmes, atores e diretores\n",
    "\n",
    "<h3><b>PREENCHA A CÉLULA ABAIXO COM O(S) INTEGRANTE(S)</b></h3>"
   ]
  },
  {
   "cell_type": "markdown",
   "metadata": {},
   "source": [
    "## Carregando extensão para Cypher"
   ]
  },
  {
   "cell_type": "code",
   "execution_count": 50,
   "metadata": {
    "tags": [],
    "trusted": true
   },
   "outputs": [],
   "source": [
    "%reload_ext neo4j_cypher_query"
   ]
  },
  {
   "cell_type": "markdown",
   "metadata": {},
   "source": [
    "## Limpando o banco de dados"
   ]
  },
  {
   "cell_type": "code",
   "execution_count": 52,
   "metadata": {
    "tags": [],
    "trusted": true
   },
   "outputs": [
    {
     "data": {
      "text/html": [
       "<div>\n",
       "<style scoped>\n",
       "    .dataframe tbody tr th:only-of-type {\n",
       "        vertical-align: middle;\n",
       "    }\n",
       "\n",
       "    .dataframe tbody tr th {\n",
       "        vertical-align: top;\n",
       "    }\n",
       "\n",
       "    .dataframe thead th {\n",
       "        text-align: right;\n",
       "    }\n",
       "</style>\n",
       "<table border=\"1\" class=\"dataframe\">\n",
       "  <thead>\n",
       "    <tr style=\"text-align: right;\">\n",
       "      <th></th>\n",
       "    </tr>\n",
       "  </thead>\n",
       "  <tbody>\n",
       "  </tbody>\n",
       "</table>\n",
       "</div>"
      ],
      "text/plain": [
       "Empty DataFrame\n",
       "Columns: []\n",
       "Index: []"
      ]
     },
     "metadata": {},
     "output_type": "display_data"
    }
   ],
   "source": [
    "%%cypher\n",
    "match (n)-[r]->(m)\n",
    "match (x)\n",
    "delete r, n, m, x"
   ]
  },
  {
   "cell_type": "markdown",
   "metadata": {},
   "source": [
    "## Importando grafo contendo filmes, atores e diretores (execute apenas uma vez)\n",
    "\n",
    "A célula abaixo contém todas as consultas necessárias para a contrução do grafo que será utilizado neste exercício. (após a linha `%%cypher` )\n",
    "\n",
    "Execute a célula abaixo para construir o grafo que será consultado.\n",
    "\n",
    "\n",
    "**ALTERNATIVA**\n",
    "\n",
    "Quer usar a interface nativa do Neo4j para fazer as consultas? Sem problemas. Você pode copiar e colar as consultas no [Neo4j Sandbox](https://sandbox.neo4j.com/login) para reconstruir o grafo. A partir daí, você poderá fazer as suas consultas de maneira mais visual na interface do próprio Neo4j. Lembre-se de colar a consulta no notebook que será entregue\n",
    "\n"
   ]
  },
  {
   "cell_type": "code",
   "execution_count": 53,
   "metadata": {
    "tags": [],
    "trusted": true
   },
   "outputs": [
    {
     "name": "stdout",
     "output_type": "stream",
     "text": [
      "Contains updates: True\n",
      "Labels added: 171\n",
      "Nodes created: 171\n",
      "Properties set: 564\n",
      "Relationships created: 253\n"
     ]
    },
    {
     "data": {
      "text/html": [
       "<div>\n",
       "<style scoped>\n",
       "    .dataframe tbody tr th:only-of-type {\n",
       "        vertical-align: middle;\n",
       "    }\n",
       "\n",
       "    .dataframe tbody tr th {\n",
       "        vertical-align: top;\n",
       "    }\n",
       "\n",
       "    .dataframe thead th {\n",
       "        text-align: right;\n",
       "    }\n",
       "</style>\n",
       "<table border=\"1\" class=\"dataframe\">\n",
       "  <thead>\n",
       "    <tr style=\"text-align: right;\">\n",
       "      <th></th>\n",
       "    </tr>\n",
       "  </thead>\n",
       "  <tbody>\n",
       "  </tbody>\n",
       "</table>\n",
       "</div>"
      ],
      "text/plain": [
       "Empty DataFrame\n",
       "Columns: []\n",
       "Index: []"
      ]
     },
     "metadata": {},
     "output_type": "display_data"
    }
   ],
   "source": [
    "%%cypher\n",
    "\n",
    "\n",
    "CREATE (TheMatrix:Movie {title:'The Matrix', released:1999, tagline:'Welcome to the Real World'})\n",
    "CREATE (Keanu:Person {name:'Keanu Reeves', born:1964})\n",
    "CREATE (Carrie:Person {name:'Carrie-Anne Moss', born:1967})\n",
    "CREATE (Laurence:Person {name:'Laurence Fishburne', born:1961})\n",
    "CREATE (Hugo:Person {name:'Hugo Weaving', born:1960})\n",
    "CREATE (LillyW:Person {name:'Lilly Wachowski', born:1967})\n",
    "CREATE (LanaW:Person {name:'Lana Wachowski', born:1965})\n",
    "CREATE (JoelS:Person {name:'Joel Silver', born:1952})\n",
    "CREATE\n",
    "  (Keanu)-[:ACTED_IN {roles:['Neo']}]->(TheMatrix),\n",
    "  (Carrie)-[:ACTED_IN {roles:['Trinity']}]->(TheMatrix),\n",
    "  (Laurence)-[:ACTED_IN {roles:['Morpheus']}]->(TheMatrix),\n",
    "  (Hugo)-[:ACTED_IN {roles:['Agent Smith']}]->(TheMatrix),\n",
    "  (LillyW)-[:DIRECTED]->(TheMatrix),\n",
    "  (LanaW)-[:DIRECTED]->(TheMatrix),\n",
    "  (JoelS)-[:PRODUCED]->(TheMatrix)\n",
    "\n",
    "CREATE (Emil:Person {name:\"Emil Eifrem\", born:1978})\n",
    "CREATE (Emil)-[:ACTED_IN {roles:[\"Emil\"]}]->(TheMatrix)\n",
    "\n",
    "CREATE (TheMatrixReloaded:Movie {title:'The Matrix Reloaded', released:2003, tagline:'Free your mind'})\n",
    "CREATE\n",
    "  (Keanu)-[:ACTED_IN {roles:['Neo']}]->(TheMatrixReloaded),\n",
    "  (Carrie)-[:ACTED_IN {roles:['Trinity']}]->(TheMatrixReloaded),\n",
    "  (Laurence)-[:ACTED_IN {roles:['Morpheus']}]->(TheMatrixReloaded),\n",
    "  (Hugo)-[:ACTED_IN {roles:['Agent Smith']}]->(TheMatrixReloaded),\n",
    "  (LillyW)-[:DIRECTED]->(TheMatrixReloaded),\n",
    "  (LanaW)-[:DIRECTED]->(TheMatrixReloaded),\n",
    "  (JoelS)-[:PRODUCED]->(TheMatrixReloaded)\n",
    "\n",
    "CREATE (TheMatrixRevolutions:Movie {title:'The Matrix Revolutions', released:2003, tagline:'Everything that has a beginning has an end'})\n",
    "CREATE\n",
    "  (Keanu)-[:ACTED_IN {roles:['Neo']}]->(TheMatrixRevolutions),\n",
    "  (Carrie)-[:ACTED_IN {roles:['Trinity']}]->(TheMatrixRevolutions),\n",
    "  (Laurence)-[:ACTED_IN {roles:['Morpheus']}]->(TheMatrixRevolutions),\n",
    "  (Hugo)-[:ACTED_IN {roles:['Agent Smith']}]->(TheMatrixRevolutions),\n",
    "  (LillyW)-[:DIRECTED]->(TheMatrixRevolutions),\n",
    "  (LanaW)-[:DIRECTED]->(TheMatrixRevolutions),\n",
    "  (JoelS)-[:PRODUCED]->(TheMatrixRevolutions)\n",
    "\n",
    "CREATE (TheDevilsAdvocate:Movie {title:\"The Devil's Advocate\", released:1997, tagline:'Evil has its winning ways'})\n",
    "CREATE (Charlize:Person {name:'Charlize Theron', born:1975})\n",
    "CREATE (Al:Person {name:'Al Pacino', born:1940})\n",
    "CREATE (Taylor:Person {name:'Taylor Hackford', born:1944})\n",
    "CREATE\n",
    "  (Keanu)-[:ACTED_IN {roles:['Kevin Lomax']}]->(TheDevilsAdvocate),\n",
    "  (Charlize)-[:ACTED_IN {roles:['Mary Ann Lomax']}]->(TheDevilsAdvocate),\n",
    "  (Al)-[:ACTED_IN {roles:['John Milton']}]->(TheDevilsAdvocate),\n",
    "  (Taylor)-[:DIRECTED]->(TheDevilsAdvocate)\n",
    "\n",
    "CREATE (AFewGoodMen:Movie {title:\"A Few Good Men\", released:1992, tagline:\"In the heart of the nation's capital, in a courthouse of the U.S. government, one man will stop at nothing to keep his honor, and one will stop at nothing to find the truth.\"})\n",
    "CREATE (TomC:Person {name:'Tom Cruise', born:1962})\n",
    "CREATE (JackN:Person {name:'Jack Nicholson', born:1937})\n",
    "CREATE (DemiM:Person {name:'Demi Moore', born:1962})\n",
    "CREATE (KevinB:Person {name:'Kevin Bacon', born:1958})\n",
    "CREATE (KieferS:Person {name:'Kiefer Sutherland', born:1966})\n",
    "CREATE (NoahW:Person {name:'Noah Wyle', born:1971})\n",
    "CREATE (CubaG:Person {name:'Cuba Gooding Jr.', born:1968})\n",
    "CREATE (KevinP:Person {name:'Kevin Pollak', born:1957})\n",
    "CREATE (JTW:Person {name:'J.T. Walsh', born:1943})\n",
    "CREATE (JamesM:Person {name:'James Marshall', born:1967})\n",
    "CREATE (ChristopherG:Person {name:'Christopher Guest', born:1948})\n",
    "CREATE (RobR:Person {name:'Rob Reiner', born:1947})\n",
    "CREATE (AaronS:Person {name:'Aaron Sorkin', born:1961})\n",
    "CREATE\n",
    "  (TomC)-[:ACTED_IN {roles:['Lt. Daniel Kaffee']}]->(AFewGoodMen),\n",
    "  (JackN)-[:ACTED_IN {roles:['Col. Nathan R. Jessup']}]->(AFewGoodMen),\n",
    "  (DemiM)-[:ACTED_IN {roles:['Lt. Cdr. JoAnne Galloway']}]->(AFewGoodMen),\n",
    "  (KevinB)-[:ACTED_IN {roles:['Capt. Jack Ross']}]->(AFewGoodMen),\n",
    "  (KieferS)-[:ACTED_IN {roles:['Lt. Jonathan Kendrick']}]->(AFewGoodMen),\n",
    "  (NoahW)-[:ACTED_IN {roles:['Cpl. Jeffrey Barnes']}]->(AFewGoodMen),\n",
    "  (CubaG)-[:ACTED_IN {roles:['Cpl. Carl Hammaker']}]->(AFewGoodMen),\n",
    "  (KevinP)-[:ACTED_IN {roles:['Lt. Sam Weinberg']}]->(AFewGoodMen),\n",
    "  (JTW)-[:ACTED_IN {roles:['Lt. Col. Matthew Andrew Markinson']}]->(AFewGoodMen),\n",
    "  (JamesM)-[:ACTED_IN {roles:['Pfc. Louden Downey']}]->(AFewGoodMen),\n",
    "  (ChristopherG)-[:ACTED_IN {roles:['Dr. Stone']}]->(AFewGoodMen),\n",
    "  (AaronS)-[:ACTED_IN {roles:['Man in Bar']}]->(AFewGoodMen),\n",
    "  (RobR)-[:DIRECTED]->(AFewGoodMen),\n",
    "  (AaronS)-[:WROTE]->(AFewGoodMen)\n",
    "\n",
    "CREATE (TopGun:Movie {title:\"Top Gun\", released:1986, tagline:'I feel the need, the need for speed.'})\n",
    "CREATE (KellyM:Person {name:'Kelly McGillis', born:1957})\n",
    "CREATE (ValK:Person {name:'Val Kilmer', born:1959})\n",
    "CREATE (AnthonyE:Person {name:'Anthony Edwards', born:1962})\n",
    "CREATE (TomS:Person {name:'Tom Skerritt', born:1933})\n",
    "CREATE (MegR:Person {name:'Meg Ryan', born:1961})\n",
    "CREATE (TonyS:Person {name:'Tony Scott', born:1944})\n",
    "CREATE (JimC:Person {name:'Jim Cash', born:1941})\n",
    "CREATE\n",
    "  (TomC)-[:ACTED_IN {roles:['Maverick']}]->(TopGun),\n",
    "  (KellyM)-[:ACTED_IN {roles:['Charlie']}]->(TopGun),\n",
    "  (ValK)-[:ACTED_IN {roles:['Iceman']}]->(TopGun),\n",
    "  (AnthonyE)-[:ACTED_IN {roles:['Goose']}]->(TopGun),\n",
    "  (TomS)-[:ACTED_IN {roles:['Viper']}]->(TopGun),\n",
    "  (MegR)-[:ACTED_IN {roles:['Carole']}]->(TopGun),\n",
    "  (TonyS)-[:DIRECTED]->(TopGun),\n",
    "  (JimC)-[:WROTE]->(TopGun)\n",
    "\n",
    "CREATE (JerryMaguire:Movie {title:'Jerry Maguire', released:2000, tagline:'The rest of his life begins now.'})\n",
    "CREATE (ReneeZ:Person {name:'Renee Zellweger', born:1969})\n",
    "CREATE (KellyP:Person {name:'Kelly Preston', born:1962})\n",
    "CREATE (JerryO:Person {name:\"Jerry O'Connell\", born:1974})\n",
    "CREATE (JayM:Person {name:'Jay Mohr', born:1970})\n",
    "CREATE (BonnieH:Person {name:'Bonnie Hunt', born:1961})\n",
    "CREATE (ReginaK:Person {name:'Regina King', born:1971})\n",
    "CREATE (JonathanL:Person {name:'Jonathan Lipnicki', born:1996})\n",
    "CREATE (CameronC:Person {name:'Cameron Crowe', born:1957})\n",
    "CREATE\n",
    "  (TomC)-[:ACTED_IN {roles:['Jerry Maguire']}]->(JerryMaguire),\n",
    "  (CubaG)-[:ACTED_IN {roles:['Rod Tidwell']}]->(JerryMaguire),\n",
    "  (ReneeZ)-[:ACTED_IN {roles:['Dorothy Boyd']}]->(JerryMaguire),\n",
    "  (KellyP)-[:ACTED_IN {roles:['Avery Bishop']}]->(JerryMaguire),\n",
    "  (JerryO)-[:ACTED_IN {roles:['Frank Cushman']}]->(JerryMaguire),\n",
    "  (JayM)-[:ACTED_IN {roles:['Bob Sugar']}]->(JerryMaguire),\n",
    "  (BonnieH)-[:ACTED_IN {roles:['Laurel Boyd']}]->(JerryMaguire),\n",
    "  (ReginaK)-[:ACTED_IN {roles:['Marcee Tidwell']}]->(JerryMaguire),\n",
    "  (JonathanL)-[:ACTED_IN {roles:['Ray Boyd']}]->(JerryMaguire),\n",
    "  (CameronC)-[:DIRECTED]->(JerryMaguire),\n",
    "  (CameronC)-[:PRODUCED]->(JerryMaguire),\n",
    "  (CameronC)-[:WROTE]->(JerryMaguire)\n",
    "\n",
    "CREATE (StandByMe:Movie {title:\"Stand By Me\", released:1986, tagline:\"For some, it's the last real taste of innocence, and the first real taste of life. But for everyone, it's the time that memories are made of.\"})\n",
    "CREATE (RiverP:Person {name:'River Phoenix', born:1970})\n",
    "CREATE (CoreyF:Person {name:'Corey Feldman', born:1971})\n",
    "CREATE (WilW:Person {name:'Wil Wheaton', born:1972})\n",
    "CREATE (JohnC:Person {name:'John Cusack', born:1966})\n",
    "CREATE (MarshallB:Person {name:'Marshall Bell', born:1942})\n",
    "CREATE\n",
    "  (WilW)-[:ACTED_IN {roles:['Gordie Lachance']}]->(StandByMe),\n",
    "  (RiverP)-[:ACTED_IN {roles:['Chris Chambers']}]->(StandByMe),\n",
    "  (JerryO)-[:ACTED_IN {roles:['Vern Tessio']}]->(StandByMe),\n",
    "  (CoreyF)-[:ACTED_IN {roles:['Teddy Duchamp']}]->(StandByMe),\n",
    "  (JohnC)-[:ACTED_IN {roles:['Denny Lachance']}]->(StandByMe),\n",
    "  (KieferS)-[:ACTED_IN {roles:['Ace Merrill']}]->(StandByMe),\n",
    "  (MarshallB)-[:ACTED_IN {roles:['Mr. Lachance']}]->(StandByMe),\n",
    "  (RobR)-[:DIRECTED]->(StandByMe)\n",
    "\n",
    "CREATE (AsGoodAsItGets:Movie {title:'As Good as It Gets', released:1997, tagline:'A comedy from the heart that goes for the throat.'})\n",
    "CREATE (HelenH:Person {name:'Helen Hunt', born:1963})\n",
    "CREATE (GregK:Person {name:'Greg Kinnear', born:1963})\n",
    "CREATE (JamesB:Person {name:'James L. Brooks', born:1940})\n",
    "CREATE\n",
    "  (JackN)-[:ACTED_IN {roles:['Melvin Udall']}]->(AsGoodAsItGets),\n",
    "  (HelenH)-[:ACTED_IN {roles:['Carol Connelly']}]->(AsGoodAsItGets),\n",
    "  (GregK)-[:ACTED_IN {roles:['Simon Bishop']}]->(AsGoodAsItGets),\n",
    "  (CubaG)-[:ACTED_IN {roles:['Frank Sachs']}]->(AsGoodAsItGets),\n",
    "  (JamesB)-[:DIRECTED]->(AsGoodAsItGets)\n",
    "\n",
    "CREATE (WhatDreamsMayCome:Movie {title:'What Dreams May Come', released:1998, tagline:'After life there is more. The end is just the beginning.'})\n",
    "CREATE (AnnabellaS:Person {name:'Annabella Sciorra', born:1960})\n",
    "CREATE (MaxS:Person {name:'Max von Sydow', born:1929})\n",
    "CREATE (WernerH:Person {name:'Werner Herzog', born:1942})\n",
    "CREATE (Robin:Person {name:'Robin Williams', born:1951})\n",
    "CREATE (VincentW:Person {name:'Vincent Ward', born:1956})\n",
    "CREATE\n",
    "  (Robin)-[:ACTED_IN {roles:['Chris Nielsen']}]->(WhatDreamsMayCome),\n",
    "  (CubaG)-[:ACTED_IN {roles:['Albert Lewis']}]->(WhatDreamsMayCome),\n",
    "  (AnnabellaS)-[:ACTED_IN {roles:['Annie Collins-Nielsen']}]->(WhatDreamsMayCome),\n",
    "  (MaxS)-[:ACTED_IN {roles:['The Tracker']}]->(WhatDreamsMayCome),\n",
    "  (WernerH)-[:ACTED_IN {roles:['The Face']}]->(WhatDreamsMayCome),\n",
    "  (VincentW)-[:DIRECTED]->(WhatDreamsMayCome)\n",
    "\n",
    "CREATE (SnowFallingonCedars:Movie {title:'Snow Falling on Cedars', released:1999, tagline:'First loves last. Forever.'})\n",
    "CREATE (EthanH:Person {name:'Ethan Hawke', born:1970})\n",
    "CREATE (RickY:Person {name:'Rick Yune', born:1971})\n",
    "CREATE (JamesC:Person {name:'James Cromwell', born:1940})\n",
    "CREATE (ScottH:Person {name:'Scott Hicks', born:1953})\n",
    "CREATE\n",
    "  (EthanH)-[:ACTED_IN {roles:['Ishmael Chambers']}]->(SnowFallingonCedars),\n",
    "  (RickY)-[:ACTED_IN {roles:['Kazuo Miyamoto']}]->(SnowFallingonCedars),\n",
    "  (MaxS)-[:ACTED_IN {roles:['Nels Gudmundsson']}]->(SnowFallingonCedars),\n",
    "  (JamesC)-[:ACTED_IN {roles:['Judge Fielding']}]->(SnowFallingonCedars),\n",
    "  (ScottH)-[:DIRECTED]->(SnowFallingonCedars)\n",
    "\n",
    "CREATE (YouveGotMail:Movie {title:\"You've Got Mail\", released:1998, tagline:'At odds in life... in love on-line.'})\n",
    "CREATE (ParkerP:Person {name:'Parker Posey', born:1968})\n",
    "CREATE (DaveC:Person {name:'Dave Chappelle', born:1973})\n",
    "CREATE (SteveZ:Person {name:'Steve Zahn', born:1967})\n",
    "CREATE (TomH:Person {name:'Tom Hanks', born:1956})\n",
    "CREATE (NoraE:Person {name:'Nora Ephron', born:1941})\n",
    "CREATE\n",
    "  (TomH)-[:ACTED_IN {roles:['Joe Fox']}]->(YouveGotMail),\n",
    "  (MegR)-[:ACTED_IN {roles:['Kathleen Kelly']}]->(YouveGotMail),\n",
    "  (GregK)-[:ACTED_IN {roles:['Frank Navasky']}]->(YouveGotMail),\n",
    "  (ParkerP)-[:ACTED_IN {roles:['Patricia Eden']}]->(YouveGotMail),\n",
    "  (DaveC)-[:ACTED_IN {roles:['Kevin Jackson']}]->(YouveGotMail),\n",
    "  (SteveZ)-[:ACTED_IN {roles:['George Pappas']}]->(YouveGotMail),\n",
    "  (NoraE)-[:DIRECTED]->(YouveGotMail)\n",
    "\n",
    "CREATE (SleeplessInSeattle:Movie {title:'Sleepless in Seattle', released:1993, tagline:'What if someone you never met, someone you never saw, someone you never knew was the only someone for you?'})\n",
    "CREATE (RitaW:Person {name:'Rita Wilson', born:1956})\n",
    "CREATE (BillPull:Person {name:'Bill Pullman', born:1953})\n",
    "CREATE (VictorG:Person {name:'Victor Garber', born:1949})\n",
    "CREATE (RosieO:Person {name:\"Rosie O'Donnell\", born:1962})\n",
    "CREATE\n",
    "  (TomH)-[:ACTED_IN {roles:['Sam Baldwin']}]->(SleeplessInSeattle),\n",
    "  (MegR)-[:ACTED_IN {roles:['Annie Reed']}]->(SleeplessInSeattle),\n",
    "  (RitaW)-[:ACTED_IN {roles:['Suzy']}]->(SleeplessInSeattle),\n",
    "  (BillPull)-[:ACTED_IN {roles:['Walter']}]->(SleeplessInSeattle),\n",
    "  (VictorG)-[:ACTED_IN {roles:['Greg']}]->(SleeplessInSeattle),\n",
    "  (RosieO)-[:ACTED_IN {roles:['Becky']}]->(SleeplessInSeattle),\n",
    "  (NoraE)-[:DIRECTED]->(SleeplessInSeattle)\n",
    "\n",
    "CREATE (JoeVersustheVolcano:Movie {title:'Joe Versus the Volcano', released:1990, tagline:'A story of love, lava and burning desire.'})\n",
    "CREATE (JohnS:Person {name:'John Patrick Stanley', born:1950})\n",
    "CREATE (Nathan:Person {name:'Nathan Lane', born:1956})\n",
    "CREATE\n",
    "  (TomH)-[:ACTED_IN {roles:['Joe Banks']}]->(JoeVersustheVolcano),\n",
    "  (MegR)-[:ACTED_IN {roles:['DeDe', 'Angelica Graynamore', 'Patricia Graynamore']}]->(JoeVersustheVolcano),\n",
    "  (Nathan)-[:ACTED_IN {roles:['Baw']}]->(JoeVersustheVolcano),\n",
    "  (JohnS)-[:DIRECTED]->(JoeVersustheVolcano)\n",
    "\n",
    "CREATE (WhenHarryMetSally:Movie {title:'When Harry Met Sally', released:1998, tagline:'Can two friends sleep together and still love each other in the morning?'})\n",
    "CREATE (BillyC:Person {name:'Billy Crystal', born:1948})\n",
    "CREATE (CarrieF:Person {name:'Carrie Fisher', born:1956})\n",
    "CREATE (BrunoK:Person {name:'Bruno Kirby', born:1949})\n",
    "CREATE\n",
    "  (BillyC)-[:ACTED_IN {roles:['Harry Burns']}]->(WhenHarryMetSally),\n",
    "  (MegR)-[:ACTED_IN {roles:['Sally Albright']}]->(WhenHarryMetSally),\n",
    "  (CarrieF)-[:ACTED_IN {roles:['Marie']}]->(WhenHarryMetSally),\n",
    "  (BrunoK)-[:ACTED_IN {roles:['Jess']}]->(WhenHarryMetSally),\n",
    "  (RobR)-[:DIRECTED]->(WhenHarryMetSally),\n",
    "  (RobR)-[:PRODUCED]->(WhenHarryMetSally),\n",
    "  (NoraE)-[:PRODUCED]->(WhenHarryMetSally),\n",
    "  (NoraE)-[:WROTE]->(WhenHarryMetSally)\n",
    "\n",
    "CREATE (ThatThingYouDo:Movie {title:'That Thing You Do', released:1996, tagline:'In every life there comes a time when that thing you dream becomes that thing you do'})\n",
    "CREATE (LivT:Person {name:'Liv Tyler', born:1977})\n",
    "CREATE\n",
    "  (TomH)-[:ACTED_IN {roles:['Mr. White']}]->(ThatThingYouDo),\n",
    "  (LivT)-[:ACTED_IN {roles:['Faye Dolan']}]->(ThatThingYouDo),\n",
    "  (Charlize)-[:ACTED_IN {roles:['Tina']}]->(ThatThingYouDo),\n",
    "  (TomH)-[:DIRECTED]->(ThatThingYouDo)\n",
    "\n",
    "CREATE (TheReplacements:Movie {title:'The Replacements', released:2000, tagline:'Pain heals, Chicks dig scars... Glory lasts forever'})\n",
    "CREATE (Brooke:Person {name:'Brooke Langton', born:1970})\n",
    "CREATE (Gene:Person {name:'Gene Hackman', born:1930})\n",
    "CREATE (Orlando:Person {name:'Orlando Jones', born:1968})\n",
    "CREATE (Howard:Person {name:'Howard Deutch', born:1950})\n",
    "CREATE\n",
    "  (Keanu)-[:ACTED_IN {roles:['Shane Falco']}]->(TheReplacements),\n",
    "  (Brooke)-[:ACTED_IN {roles:['Annabelle Farrell']}]->(TheReplacements),\n",
    "  (Gene)-[:ACTED_IN {roles:['Jimmy McGinty']}]->(TheReplacements),\n",
    "  (Orlando)-[:ACTED_IN {roles:['Clifford Franklin']}]->(TheReplacements),\n",
    "  (Howard)-[:DIRECTED]->(TheReplacements)\n",
    "\n",
    "CREATE (RescueDawn:Movie {title:'RescueDawn', released:2006, tagline:\"Based on the extraordinary true story of one man's fight for freedom\"})\n",
    "CREATE (ChristianB:Person {name:'Christian Bale', born:1974})\n",
    "CREATE (ZachG:Person {name:'Zach Grenier', born:1954})\n",
    "CREATE\n",
    "  (MarshallB)-[:ACTED_IN {roles:['Admiral']}]->(RescueDawn),\n",
    "  (ChristianB)-[:ACTED_IN {roles:['Dieter Dengler']}]->(RescueDawn),\n",
    "  (ZachG)-[:ACTED_IN {roles:['Squad Leader']}]->(RescueDawn),\n",
    "  (SteveZ)-[:ACTED_IN {roles:['Duane']}]->(RescueDawn),\n",
    "  (WernerH)-[:DIRECTED]->(RescueDawn)\n",
    "\n",
    "CREATE (TheBirdcage:Movie {title:'The Birdcage', released:1996, tagline:'Come as you are'})\n",
    "CREATE (MikeN:Person {name:'Mike Nichols', born:1931})\n",
    "CREATE\n",
    "  (Robin)-[:ACTED_IN {roles:['Armand Goldman']}]->(TheBirdcage),\n",
    "  (Nathan)-[:ACTED_IN {roles:['Albert Goldman']}]->(TheBirdcage),\n",
    "  (Gene)-[:ACTED_IN {roles:['Sen. Kevin Keeley']}]->(TheBirdcage),\n",
    "  (MikeN)-[:DIRECTED]->(TheBirdcage)\n",
    "\n",
    "CREATE (Unforgiven:Movie {title:'Unforgiven', released:1992, tagline:\"It's a hell of a thing, killing a man\"})\n",
    "CREATE (RichardH:Person {name:'Richard Harris', born:1930})\n",
    "CREATE (ClintE:Person {name:'Clint Eastwood', born:1930})\n",
    "CREATE\n",
    "  (RichardH)-[:ACTED_IN {roles:['English Bob']}]->(Unforgiven),\n",
    "  (ClintE)-[:ACTED_IN {roles:['Bill Munny']}]->(Unforgiven),\n",
    "  (Gene)-[:ACTED_IN {roles:['Little Bill Daggett']}]->(Unforgiven),\n",
    "  (ClintE)-[:DIRECTED]->(Unforgiven)\n",
    "\n",
    "CREATE (JohnnyMnemonic:Movie {title:'Johnny Mnemonic', released:1995, tagline:'The hottest data on earth. In the coolest head in town'})\n",
    "CREATE (Takeshi:Person {name:'Takeshi Kitano', born:1947})\n",
    "CREATE (Dina:Person {name:'Dina Meyer', born:1968})\n",
    "CREATE (IceT:Person {name:'Ice-T', born:1958})\n",
    "CREATE (RobertL:Person {name:'Robert Longo', born:1953})\n",
    "CREATE\n",
    "  (Keanu)-[:ACTED_IN {roles:['Johnny Mnemonic']}]->(JohnnyMnemonic),\n",
    "  (Takeshi)-[:ACTED_IN {roles:['Takahashi']}]->(JohnnyMnemonic),\n",
    "  (Dina)-[:ACTED_IN {roles:['Jane']}]->(JohnnyMnemonic),\n",
    "  (IceT)-[:ACTED_IN {roles:['J-Bone']}]->(JohnnyMnemonic),\n",
    "  (RobertL)-[:DIRECTED]->(JohnnyMnemonic)\n",
    "\n",
    "CREATE (CloudAtlas:Movie {title:'Cloud Atlas', released:2012, tagline:'Everything is connected'})\n",
    "CREATE (HalleB:Person {name:'Halle Berry', born:1966})\n",
    "CREATE (JimB:Person {name:'Jim Broadbent', born:1949})\n",
    "CREATE (TomT:Person {name:'Tom Tykwer', born:1965})\n",
    "CREATE (DavidMitchell:Person {name:'David Mitchell', born:1969})\n",
    "CREATE (StefanArndt:Person {name:'Stefan Arndt', born:1961})\n",
    "CREATE\n",
    "  (TomH)-[:ACTED_IN {roles:['Zachry', 'Dr. Henry Goose', 'Isaac Sachs', 'Dermot Hoggins']}]->(CloudAtlas),\n",
    "  (Hugo)-[:ACTED_IN {roles:['Bill Smoke', 'Haskell Moore', 'Tadeusz Kesselring', 'Nurse Noakes', 'Boardman Mephi', 'Old Georgie']}]->(CloudAtlas),\n",
    "  (HalleB)-[:ACTED_IN {roles:['Luisa Rey', 'Jocasta Ayrs', 'Ovid', 'Meronym']}]->(CloudAtlas),\n",
    "  (JimB)-[:ACTED_IN {roles:['Vyvyan Ayrs', 'Captain Molyneux', 'Timothy Cavendish']}]->(CloudAtlas),\n",
    "  (TomT)-[:DIRECTED]->(CloudAtlas),\n",
    "  (LillyW)-[:DIRECTED]->(CloudAtlas),\n",
    "  (LanaW)-[:DIRECTED]->(CloudAtlas),\n",
    "  (DavidMitchell)-[:WROTE]->(CloudAtlas),\n",
    "  (StefanArndt)-[:PRODUCED]->(CloudAtlas)\n",
    "\n",
    "CREATE (TheDaVinciCode:Movie {title:'The Da Vinci Code', released:2006, tagline:'Break The Codes'})\n",
    "CREATE (IanM:Person {name:'Ian McKellen', born:1939})\n",
    "CREATE (AudreyT:Person {name:'Audrey Tautou', born:1976})\n",
    "CREATE (PaulB:Person {name:'Paul Bettany', born:1971})\n",
    "CREATE (RonH:Person {name:'Ron Howard', born:1954})\n",
    "CREATE\n",
    "  (TomH)-[:ACTED_IN {roles:['Dr. Robert Langdon']}]->(TheDaVinciCode),\n",
    "  (IanM)-[:ACTED_IN {roles:['Sir Leight Teabing']}]->(TheDaVinciCode),\n",
    "  (AudreyT)-[:ACTED_IN {roles:['Sophie Neveu']}]->(TheDaVinciCode),\n",
    "  (PaulB)-[:ACTED_IN {roles:['Silas']}]->(TheDaVinciCode),\n",
    "  (RonH)-[:DIRECTED]->(TheDaVinciCode)\n",
    "\n",
    "CREATE (VforVendetta:Movie {title:'V for Vendetta', released:2006, tagline:'Freedom! Forever!'})\n",
    "CREATE (NatalieP:Person {name:'Natalie Portman', born:1981})\n",
    "CREATE (StephenR:Person {name:'Stephen Rea', born:1946})\n",
    "CREATE (JohnH:Person {name:'John Hurt', born:1940})\n",
    "CREATE (BenM:Person {name: 'Ben Miles', born:1967})\n",
    "CREATE\n",
    "  (Hugo)-[:ACTED_IN {roles:['V']}]->(VforVendetta),\n",
    "  (NatalieP)-[:ACTED_IN {roles:['Evey Hammond']}]->(VforVendetta),\n",
    "  (StephenR)-[:ACTED_IN {roles:['Eric Finch']}]->(VforVendetta),\n",
    "  (JohnH)-[:ACTED_IN {roles:['High Chancellor Adam Sutler']}]->(VforVendetta),\n",
    "  (BenM)-[:ACTED_IN {roles:['Dascomb']}]->(VforVendetta),\n",
    "  (JamesM)-[:DIRECTED]->(VforVendetta),\n",
    "  (LillyW)-[:PRODUCED]->(VforVendetta),\n",
    "  (LanaW)-[:PRODUCED]->(VforVendetta),\n",
    "  (JoelS)-[:PRODUCED]->(VforVendetta),\n",
    "  (LillyW)-[:WROTE]->(VforVendetta),\n",
    "  (LanaW)-[:WROTE]->(VforVendetta)\n",
    "\n",
    "CREATE (SpeedRacer:Movie {title:'Speed Racer', released:2008, tagline:'Speed has no limits'})\n",
    "CREATE (EmileH:Person {name:'Emile Hirsch', born:1985})\n",
    "CREATE (JohnG:Person {name:'John Goodman', born:1960})\n",
    "CREATE (SusanS:Person {name:'Susan Sarandon', born:1946})\n",
    "CREATE (MatthewF:Person {name:'Matthew Fox', born:1966})\n",
    "CREATE (ChristinaR:Person {name:'Christina Ricci', born:1980})\n",
    "CREATE (Rain:Person {name:'Rain', born:1982})\n",
    "CREATE\n",
    "  (EmileH)-[:ACTED_IN {roles:['Speed Racer']}]->(SpeedRacer),\n",
    "  (JohnG)-[:ACTED_IN {roles:['Pops']}]->(SpeedRacer),\n",
    "  (SusanS)-[:ACTED_IN {roles:['Mom']}]->(SpeedRacer),\n",
    "  (MatthewF)-[:ACTED_IN {roles:['Racer X']}]->(SpeedRacer),\n",
    "  (ChristinaR)-[:ACTED_IN {roles:['Trixie']}]->(SpeedRacer),\n",
    "  (Rain)-[:ACTED_IN {roles:['Taejo Togokahn']}]->(SpeedRacer),\n",
    "  (BenM)-[:ACTED_IN {roles:['Cass Jones']}]->(SpeedRacer),\n",
    "  (LillyW)-[:DIRECTED]->(SpeedRacer),\n",
    "  (LanaW)-[:DIRECTED]->(SpeedRacer),\n",
    "  (LillyW)-[:WROTE]->(SpeedRacer),\n",
    "  (LanaW)-[:WROTE]->(SpeedRacer),\n",
    "  (JoelS)-[:PRODUCED]->(SpeedRacer)\n",
    "\n",
    "CREATE (NinjaAssassin:Movie {title:'Ninja Assassin', released:2009, tagline:'Prepare to enter a secret world of assassins'})\n",
    "CREATE (NaomieH:Person {name:'Naomie Harris'})\n",
    "CREATE\n",
    "  (Rain)-[:ACTED_IN {roles:['Raizo']}]->(NinjaAssassin),\n",
    "  (NaomieH)-[:ACTED_IN {roles:['Mika Coretti']}]->(NinjaAssassin),\n",
    "  (RickY)-[:ACTED_IN {roles:['Takeshi']}]->(NinjaAssassin),\n",
    "  (BenM)-[:ACTED_IN {roles:['Ryan Maslow']}]->(NinjaAssassin),\n",
    "  (JamesM)-[:DIRECTED]->(NinjaAssassin),\n",
    "  (LillyW)-[:PRODUCED]->(NinjaAssassin),\n",
    "  (LanaW)-[:PRODUCED]->(NinjaAssassin),\n",
    "  (JoelS)-[:PRODUCED]->(NinjaAssassin)\n",
    "\n",
    "CREATE (TheGreenMile:Movie {title:'The Green Mile', released:1999, tagline:\"Walk a mile you'll never forget.\"})\n",
    "CREATE (MichaelD:Person {name:'Michael Clarke Duncan', born:1957})\n",
    "CREATE (DavidM:Person {name:'David Morse', born:1953})\n",
    "CREATE (SamR:Person {name:'Sam Rockwell', born:1968})\n",
    "CREATE (GaryS:Person {name:'Gary Sinise', born:1955})\n",
    "CREATE (PatriciaC:Person {name:'Patricia Clarkson', born:1959})\n",
    "CREATE (FrankD:Person {name:'Frank Darabont', born:1959})\n",
    "CREATE\n",
    "  (TomH)-[:ACTED_IN {roles:['Paul Edgecomb']}]->(TheGreenMile),\n",
    "  (MichaelD)-[:ACTED_IN {roles:['John Coffey']}]->(TheGreenMile),\n",
    "  (DavidM)-[:ACTED_IN {roles:['Brutus \"Brutal\" Howell']}]->(TheGreenMile),\n",
    "  (BonnieH)-[:ACTED_IN {roles:['Jan Edgecomb']}]->(TheGreenMile),\n",
    "  (JamesC)-[:ACTED_IN {roles:['Warden Hal Moores']}]->(TheGreenMile),\n",
    "  (SamR)-[:ACTED_IN {roles:['\"Wild Bill\" Wharton']}]->(TheGreenMile),\n",
    "  (GaryS)-[:ACTED_IN {roles:['Burt Hammersmith']}]->(TheGreenMile),\n",
    "  (PatriciaC)-[:ACTED_IN {roles:['Melinda Moores']}]->(TheGreenMile),\n",
    "  (FrankD)-[:DIRECTED]->(TheGreenMile)\n",
    "\n",
    "CREATE (FrostNixon:Movie {title:'Frost/Nixon', released:2008, tagline:'400 million people were waiting for the truth.'})\n",
    "CREATE (FrankL:Person {name:'Frank Langella', born:1938})\n",
    "CREATE (MichaelS:Person {name:'Michael Sheen', born:1969})\n",
    "CREATE (OliverP:Person {name:'Oliver Platt', born:1960})\n",
    "CREATE\n",
    "  (FrankL)-[:ACTED_IN {roles:['Richard Nixon']}]->(FrostNixon),\n",
    "  (MichaelS)-[:ACTED_IN {roles:['David Frost']}]->(FrostNixon),\n",
    "  (KevinB)-[:ACTED_IN {roles:['Jack Brennan']}]->(FrostNixon),\n",
    "  (OliverP)-[:ACTED_IN {roles:['Bob Zelnick']}]->(FrostNixon),\n",
    "  (SamR)-[:ACTED_IN {roles:['James Reston, Jr.']}]->(FrostNixon),\n",
    "  (RonH)-[:DIRECTED]->(FrostNixon)\n",
    "\n",
    "CREATE (Hoffa:Movie {title:'Hoffa', released:1992, tagline:\"He didn't want law. He wanted justice.\"})\n",
    "CREATE (DannyD:Person {name:'Danny DeVito', born:1944})\n",
    "CREATE (JohnR:Person {name:'John C. Reilly', born:1965})\n",
    "CREATE\n",
    "  (JackN)-[:ACTED_IN {roles:['Hoffa']}]->(Hoffa),\n",
    "  (DannyD)-[:ACTED_IN {roles:['Robert \"Bobby\" Ciaro']}]->(Hoffa),\n",
    "  (JTW)-[:ACTED_IN {roles:['Frank Fitzsimmons']}]->(Hoffa),\n",
    "  (JohnR)-[:ACTED_IN {roles:['Peter \"Pete\" Connelly']}]->(Hoffa),\n",
    "  (DannyD)-[:DIRECTED]->(Hoffa)\n",
    "\n",
    "CREATE (Apollo13:Movie {title:'Apollo 13', released:1995, tagline:'Houston, we have a problem.'})\n",
    "CREATE (EdH:Person {name:'Ed Harris', born:1950})\n",
    "CREATE (BillPax:Person {name:'Bill Paxton', born:1955})\n",
    "CREATE\n",
    "  (TomH)-[:ACTED_IN {roles:['Jim Lovell']}]->(Apollo13),\n",
    "  (KevinB)-[:ACTED_IN {roles:['Jack Swigert']}]->(Apollo13),\n",
    "  (EdH)-[:ACTED_IN {roles:['Gene Kranz']}]->(Apollo13),\n",
    "  (BillPax)-[:ACTED_IN {roles:['Fred Haise']}]->(Apollo13),\n",
    "  (GaryS)-[:ACTED_IN {roles:['Ken Mattingly']}]->(Apollo13),\n",
    "  (RonH)-[:DIRECTED]->(Apollo13)\n",
    "\n",
    "CREATE (Twister:Movie {title:'Twister', released:1996, tagline:\"Don't Breathe. Don't Look Back.\"})\n",
    "CREATE (PhilipH:Person {name:'Philip Seymour Hoffman', born:1967})\n",
    "CREATE (JanB:Person {name:'Jan de Bont', born:1943})\n",
    "CREATE\n",
    "  (BillPax)-[:ACTED_IN {roles:['Bill Harding']}]->(Twister),\n",
    "  (HelenH)-[:ACTED_IN {roles:['Dr. Jo Harding']}]->(Twister),\n",
    "  (ZachG)-[:ACTED_IN {roles:['Eddie']}]->(Twister),\n",
    "  (PhilipH)-[:ACTED_IN {roles:['Dustin \"Dusty\" Davis']}]->(Twister),\n",
    "  (JanB)-[:DIRECTED]->(Twister)\n",
    "\n",
    "CREATE (CastAway:Movie {title:'Cast Away', released:2000, tagline:'At the edge of the world, his journey begins.'})\n",
    "CREATE (RobertZ:Person {name:'Robert Zemeckis', born:1951})\n",
    "CREATE\n",
    "  (TomH)-[:ACTED_IN {roles:['Chuck Noland']}]->(CastAway),\n",
    "  (HelenH)-[:ACTED_IN {roles:['Kelly Frears']}]->(CastAway),\n",
    "  (RobertZ)-[:DIRECTED]->(CastAway)\n",
    "\n",
    "CREATE (OneFlewOvertheCuckoosNest:Movie {title:\"One Flew Over the Cuckoo's Nest\", released:1975, tagline:\"If he's crazy, what does that make you?\"})\n",
    "CREATE (MilosF:Person {name:'Milos Forman', born:1932})\n",
    "CREATE\n",
    "  (JackN)-[:ACTED_IN {roles:['Randle McMurphy']}]->(OneFlewOvertheCuckoosNest),\n",
    "  (DannyD)-[:ACTED_IN {roles:['Martini']}]->(OneFlewOvertheCuckoosNest),\n",
    "  (MilosF)-[:DIRECTED]->(OneFlewOvertheCuckoosNest)\n",
    "\n",
    "CREATE (SomethingsGottaGive:Movie {title:\"Something's Gotta Give\", released:2003})\n",
    "CREATE (DianeK:Person {name:'Diane Keaton', born:1946})\n",
    "CREATE (NancyM:Person {name:'Nancy Meyers', born:1949})\n",
    "CREATE\n",
    "  (JackN)-[:ACTED_IN {roles:['Harry Sanborn']}]->(SomethingsGottaGive),\n",
    "  (DianeK)-[:ACTED_IN {roles:['Erica Barry']}]->(SomethingsGottaGive),\n",
    "  (Keanu)-[:ACTED_IN {roles:['Julian Mercer']}]->(SomethingsGottaGive),\n",
    "  (NancyM)-[:DIRECTED]->(SomethingsGottaGive),\n",
    "  (NancyM)-[:PRODUCED]->(SomethingsGottaGive),\n",
    "  (NancyM)-[:WROTE]->(SomethingsGottaGive)\n",
    "\n",
    "CREATE (BicentennialMan:Movie {title:'Bicentennial Man', released:1999, tagline:\"One robot's 200 year journey to become an ordinary man.\"})\n",
    "CREATE (ChrisC:Person {name:'Chris Columbus', born:1958})\n",
    "CREATE\n",
    "  (Robin)-[:ACTED_IN {roles:['Andrew Marin']}]->(BicentennialMan),\n",
    "  (OliverP)-[:ACTED_IN {roles:['Rupert Burns']}]->(BicentennialMan),\n",
    "  (ChrisC)-[:DIRECTED]->(BicentennialMan)\n",
    "\n",
    "CREATE (CharlieWilsonsWar:Movie {title:\"Charlie Wilson's War\", released:2007, tagline:\"A stiff drink. A little mascara. A lot of nerve. Who said they couldn't bring down the Soviet empire.\"})\n",
    "CREATE (JuliaR:Person {name:'Julia Roberts', born:1967})\n",
    "CREATE\n",
    "  (TomH)-[:ACTED_IN {roles:['Rep. Charlie Wilson']}]->(CharlieWilsonsWar),\n",
    "  (JuliaR)-[:ACTED_IN {roles:['Joanne Herring']}]->(CharlieWilsonsWar),\n",
    "  (PhilipH)-[:ACTED_IN {roles:['Gust Avrakotos']}]->(CharlieWilsonsWar),\n",
    "  (MikeN)-[:DIRECTED]->(CharlieWilsonsWar)\n",
    "\n",
    "CREATE (ThePolarExpress:Movie {title:'The Polar Express', released:2004, tagline:'This Holiday Season… Believe'})\n",
    "CREATE\n",
    "  (TomH)-[:ACTED_IN {roles:['Hero Boy', 'Father', 'Conductor', 'Hobo', 'Scrooge', 'Santa Claus']}]->(ThePolarExpress),\n",
    "  (RobertZ)-[:DIRECTED]->(ThePolarExpress)\n",
    "\n",
    "CREATE (ALeagueofTheirOwn:Movie {title:'A League of Their Own', released:1992, tagline:'Once in a lifetime you get a chance to do something different.'})\n",
    "CREATE (Madonna:Person {name:'Madonna', born:1954})\n",
    "CREATE (GeenaD:Person {name:'Geena Davis', born:1956})\n",
    "CREATE (LoriP:Person {name:'Lori Petty', born:1963})\n",
    "CREATE (PennyM:Person {name:'Penny Marshall', born:1943})\n",
    "CREATE\n",
    "  (TomH)-[:ACTED_IN {roles:['Jimmy Dugan']}]->(ALeagueofTheirOwn),\n",
    "  (GeenaD)-[:ACTED_IN {roles:['Dottie Hinson']}]->(ALeagueofTheirOwn),\n",
    "  (LoriP)-[:ACTED_IN {roles:['Kit Keller']}]->(ALeagueofTheirOwn),\n",
    "  (RosieO)-[:ACTED_IN {roles:['Doris Murphy']}]->(ALeagueofTheirOwn),\n",
    "  (Madonna)-[:ACTED_IN {roles:['\"All the Way\" Mae Mordabito']}]->(ALeagueofTheirOwn),\n",
    "  (BillPax)-[:ACTED_IN {roles:['Bob Hinson']}]->(ALeagueofTheirOwn),\n",
    "  (PennyM)-[:DIRECTED]->(ALeagueofTheirOwn)\n",
    "\n",
    "CREATE (PaulBlythe:Person {name:'Paul Blythe'})\n",
    "CREATE (AngelaScope:Person {name:'Angela Scope'})\n",
    "CREATE (JessicaThompson:Person {name:'Jessica Thompson'})\n",
    "CREATE (JamesThompson:Person {name:'James Thompson'})\n",
    "\n",
    "CREATE\n",
    "  (JamesThompson)-[:FOLLOWS]->(JessicaThompson),\n",
    "  (AngelaScope)-[:FOLLOWS]->(JessicaThompson),\n",
    "  (PaulBlythe)-[:FOLLOWS]->(AngelaScope)\n",
    "\n",
    "CREATE\n",
    "  (JessicaThompson)-[:REVIEWED {summary:'An amazing journey', rating:95}]->(CloudAtlas),\n",
    "  (JessicaThompson)-[:REVIEWED {summary:'Silly, but fun', rating:65}]->(TheReplacements),\n",
    "  (JamesThompson)-[:REVIEWED {summary:'The coolest football movie ever', rating:100}]->(TheReplacements),\n",
    "  (AngelaScope)-[:REVIEWED {summary:'Pretty funny at times', rating:62}]->(TheReplacements),\n",
    "  (JessicaThompson)-[:REVIEWED {summary:'Dark, but compelling', rating:85}]->(Unforgiven),\n",
    "  (JessicaThompson)-[:REVIEWED {summary:\"Slapstick redeemed only by the Robin Williams and Gene Hackman's stellar performances\", rating:45}]->(TheBirdcage),\n",
    "  (JessicaThompson)-[:REVIEWED {summary:'A solid romp', rating:68}]->(TheDaVinciCode),\n",
    "  (JamesThompson)-[:REVIEWED {summary:'Fun, but a little far fetched', rating:65}]->(TheDaVinciCode),\n",
    "  (JessicaThompson)-[:REVIEWED {summary:'You had me at Jerry', rating:92}]->(JerryMaguire)\n"
   ]
  },
  {
   "cell_type": "markdown",
   "metadata": {},
   "source": [
    "### Visualizando o Grafo (apenas para ilustração, resolva o exercício apenas com consultas)"
   ]
  },
  {
   "cell_type": "code",
   "execution_count": 54,
   "metadata": {
    "tags": [],
    "trusted": true
   },
   "outputs": [
    {
     "data": {
      "application/vnd.jupyter.widget-view+json": {
       "model_id": "052be7f885fe428b8fb42936f97fb7eb",
       "version_major": 2,
       "version_minor": 0
      },
      "text/plain": [
       "GraphWidget(layout=Layout(height='800px', width='100%'))"
      ]
     },
     "metadata": {},
     "output_type": "display_data"
    }
   ],
   "source": [
    "%%cypher show returned graph\n",
    "\n",
    "match (n)-[r]->(m)\n",
    "match (x)\n",
    "return r, n, m, x limit 50"
   ]
  },
  {
   "cell_type": "code",
   "execution_count": 55,
   "metadata": {
    "tags": [],
    "trusted": true
   },
   "outputs": [
    {
     "data": {
      "text/html": [
       "\n",
       "        <iframe\n",
       "            width=\"100%\"\n",
       "            height=\"400\"\n",
       "            src=\"resources/graphs/graph-f8304726-9dd4-495f-864b-f00778180c13.html\"\n",
       "            frameborder=\"0\"\n",
       "            allowfullscreen\n",
       "        ></iframe>\n",
       "        "
      ],
      "text/plain": [
       "<IPython.lib.display.IFrame at 0x7eb0478a6620>"
      ]
     },
     "metadata": {},
     "output_type": "display_data"
    }
   ],
   "source": [
    "%%cypher show full graph\n",
    "display"
   ]
  },
  {
   "cell_type": "markdown",
   "metadata": {},
   "source": [
    "### Representação do Schema\n",
    "\n",
    "A imagem abaixo representa o schema do grafo criado anteriormente.\n",
    "\n",
    "<img src=\"./resources/graph.png\">"
   ]
  },
  {
   "cell_type": "markdown",
   "metadata": {},
   "source": [
    "## [Questão Exemplo] Em que ano nasceu a pessoa com nome Tom Hanks?"
   ]
  },
  {
   "cell_type": "code",
   "execution_count": 56,
   "metadata": {
    "tags": [],
    "trusted": true
   },
   "outputs": [
    {
     "data": {
      "text/html": [
       "<div>\n",
       "<style scoped>\n",
       "    .dataframe tbody tr th:only-of-type {\n",
       "        vertical-align: middle;\n",
       "    }\n",
       "\n",
       "    .dataframe tbody tr th {\n",
       "        vertical-align: top;\n",
       "    }\n",
       "\n",
       "    .dataframe thead th {\n",
       "        text-align: right;\n",
       "    }\n",
       "</style>\n",
       "<table border=\"1\" class=\"dataframe\">\n",
       "  <thead>\n",
       "    <tr style=\"text-align: right;\">\n",
       "      <th></th>\n",
       "      <th>node</th>\n",
       "    </tr>\n",
       "  </thead>\n",
       "  <tbody>\n",
       "    <tr>\n",
       "      <th>0</th>\n",
       "      <td>{'born': 1956, 'name': 'Tom Hanks'}</td>\n",
       "    </tr>\n",
       "  </tbody>\n",
       "</table>\n",
       "</div>"
      ],
      "text/plain": [
       "                                  node\n",
       "0  {'born': 1956, 'name': 'Tom Hanks'}"
      ]
     },
     "metadata": {},
     "output_type": "display_data"
    }
   ],
   "source": [
    "%%cypher\n",
    "\n",
    "MATCH (node)\n",
    "WHERE node.name='Tom Hanks'\n",
    "RETURN node\n"
   ]
  },
  {
   "cell_type": "code",
   "execution_count": 57,
   "metadata": {
    "tags": [],
    "trusted": true
   },
   "outputs": [
    {
     "data": {
      "text/html": [
       "<div>\n",
       "<style scoped>\n",
       "    .dataframe tbody tr th:only-of-type {\n",
       "        vertical-align: middle;\n",
       "    }\n",
       "\n",
       "    .dataframe tbody tr th {\n",
       "        vertical-align: top;\n",
       "    }\n",
       "\n",
       "    .dataframe thead th {\n",
       "        text-align: right;\n",
       "    }\n",
       "</style>\n",
       "<table border=\"1\" class=\"dataframe\">\n",
       "  <thead>\n",
       "    <tr style=\"text-align: right;\">\n",
       "      <th></th>\n",
       "      <th>node.name</th>\n",
       "      <th>node.born</th>\n",
       "    </tr>\n",
       "  </thead>\n",
       "  <tbody>\n",
       "    <tr>\n",
       "      <th>0</th>\n",
       "      <td>Tom Hanks</td>\n",
       "      <td>1956</td>\n",
       "    </tr>\n",
       "  </tbody>\n",
       "</table>\n",
       "</div>"
      ],
      "text/plain": [
       "   node.name  node.born\n",
       "0  Tom Hanks       1956"
      ]
     },
     "metadata": {},
     "output_type": "display_data"
    }
   ],
   "source": [
    "%%cypher\n",
    "\n",
    "MATCH (node)\n",
    "WHERE node.name='Tom Hanks'\n",
    "RETURN node.name, node.born\n"
   ]
  },
  {
   "cell_type": "markdown",
   "metadata": {},
   "source": [
    "## [Questão Exemplo] Encontre o filme com nome Cloud Atlas"
   ]
  },
  {
   "cell_type": "code",
   "execution_count": 58,
   "metadata": {
    "tags": [],
    "trusted": true
   },
   "outputs": [
    {
     "data": {
      "text/html": [
       "<div>\n",
       "<style scoped>\n",
       "    .dataframe tbody tr th:only-of-type {\n",
       "        vertical-align: middle;\n",
       "    }\n",
       "\n",
       "    .dataframe tbody tr th {\n",
       "        vertical-align: top;\n",
       "    }\n",
       "\n",
       "    .dataframe thead th {\n",
       "        text-align: right;\n",
       "    }\n",
       "</style>\n",
       "<table border=\"1\" class=\"dataframe\">\n",
       "  <thead>\n",
       "    <tr style=\"text-align: right;\">\n",
       "      <th></th>\n",
       "      <th>node</th>\n",
       "    </tr>\n",
       "  </thead>\n",
       "  <tbody>\n",
       "    <tr>\n",
       "      <th>0</th>\n",
       "      <td>{'tagline': 'Everything is connected', 'title': 'Cloud Atlas', 'released': 2012}</td>\n",
       "    </tr>\n",
       "  </tbody>\n",
       "</table>\n",
       "</div>"
      ],
      "text/plain": [
       "                                                                               node\n",
       "0  {'tagline': 'Everything is connected', 'title': 'Cloud Atlas', 'released': 2012}"
      ]
     },
     "metadata": {},
     "output_type": "display_data"
    }
   ],
   "source": [
    "%%cypher\n",
    "\n",
    "MATCH (node:Movie)\n",
    "WHERE node.title='Cloud Atlas'\n",
    "RETURN node\n"
   ]
  },
  {
   "cell_type": "markdown",
   "metadata": {},
   "source": [
    "## [Questão Exemplo]  Liste apenas o nome de 10 filmes"
   ]
  },
  {
   "cell_type": "code",
   "execution_count": 59,
   "metadata": {
    "tags": [],
    "trusted": true
   },
   "outputs": [
    {
     "data": {
      "text/html": [
       "<div>\n",
       "<style scoped>\n",
       "    .dataframe tbody tr th:only-of-type {\n",
       "        vertical-align: middle;\n",
       "    }\n",
       "\n",
       "    .dataframe tbody tr th {\n",
       "        vertical-align: top;\n",
       "    }\n",
       "\n",
       "    .dataframe thead th {\n",
       "        text-align: right;\n",
       "    }\n",
       "</style>\n",
       "<table border=\"1\" class=\"dataframe\">\n",
       "  <thead>\n",
       "    <tr style=\"text-align: right;\">\n",
       "      <th></th>\n",
       "      <th>node.title</th>\n",
       "    </tr>\n",
       "  </thead>\n",
       "  <tbody>\n",
       "    <tr>\n",
       "      <th>0</th>\n",
       "      <td>The Matrix</td>\n",
       "    </tr>\n",
       "    <tr>\n",
       "      <th>1</th>\n",
       "      <td>The Matrix Reloaded</td>\n",
       "    </tr>\n",
       "    <tr>\n",
       "      <th>2</th>\n",
       "      <td>The Matrix Revolutions</td>\n",
       "    </tr>\n",
       "    <tr>\n",
       "      <th>3</th>\n",
       "      <td>The Devil's Advocate</td>\n",
       "    </tr>\n",
       "    <tr>\n",
       "      <th>4</th>\n",
       "      <td>A Few Good Men</td>\n",
       "    </tr>\n",
       "    <tr>\n",
       "      <th>5</th>\n",
       "      <td>Top Gun</td>\n",
       "    </tr>\n",
       "    <tr>\n",
       "      <th>6</th>\n",
       "      <td>Jerry Maguire</td>\n",
       "    </tr>\n",
       "    <tr>\n",
       "      <th>7</th>\n",
       "      <td>Stand By Me</td>\n",
       "    </tr>\n",
       "    <tr>\n",
       "      <th>8</th>\n",
       "      <td>As Good as It Gets</td>\n",
       "    </tr>\n",
       "    <tr>\n",
       "      <th>9</th>\n",
       "      <td>What Dreams May Come</td>\n",
       "    </tr>\n",
       "  </tbody>\n",
       "</table>\n",
       "</div>"
      ],
      "text/plain": [
       "               node.title\n",
       "0              The Matrix\n",
       "1     The Matrix Reloaded\n",
       "2  The Matrix Revolutions\n",
       "3    The Devil's Advocate\n",
       "4          A Few Good Men\n",
       "5                 Top Gun\n",
       "6           Jerry Maguire\n",
       "7             Stand By Me\n",
       "8      As Good as It Gets\n",
       "9    What Dreams May Come"
      ]
     },
     "metadata": {},
     "output_type": "display_data"
    }
   ],
   "source": [
    "%%cypher\n",
    "\n",
    "MATCH (node:Movie)\n",
    "RETURN node.title LIMIT 10\n"
   ]
  },
  {
   "cell_type": "markdown",
   "metadata": {},
   "source": [
    "## [Questão Exemplo] Liste todos os filmes em que Tom Hanks atuou"
   ]
  },
  {
   "cell_type": "code",
   "execution_count": 60,
   "metadata": {
    "tags": [],
    "trusted": true
   },
   "outputs": [
    {
     "data": {
      "text/html": [
       "<div>\n",
       "<style scoped>\n",
       "    .dataframe tbody tr th:only-of-type {\n",
       "        vertical-align: middle;\n",
       "    }\n",
       "\n",
       "    .dataframe tbody tr th {\n",
       "        vertical-align: top;\n",
       "    }\n",
       "\n",
       "    .dataframe thead th {\n",
       "        text-align: right;\n",
       "    }\n",
       "</style>\n",
       "<table border=\"1\" class=\"dataframe\">\n",
       "  <thead>\n",
       "    <tr style=\"text-align: right;\">\n",
       "      <th></th>\n",
       "      <th>Titulo_do_Filme</th>\n",
       "    </tr>\n",
       "  </thead>\n",
       "  <tbody>\n",
       "    <tr>\n",
       "      <th>0</th>\n",
       "      <td>You've Got Mail</td>\n",
       "    </tr>\n",
       "    <tr>\n",
       "      <th>1</th>\n",
       "      <td>Sleepless in Seattle</td>\n",
       "    </tr>\n",
       "    <tr>\n",
       "      <th>2</th>\n",
       "      <td>Joe Versus the Volcano</td>\n",
       "    </tr>\n",
       "    <tr>\n",
       "      <th>3</th>\n",
       "      <td>That Thing You Do</td>\n",
       "    </tr>\n",
       "    <tr>\n",
       "      <th>4</th>\n",
       "      <td>Cloud Atlas</td>\n",
       "    </tr>\n",
       "    <tr>\n",
       "      <th>5</th>\n",
       "      <td>The Da Vinci Code</td>\n",
       "    </tr>\n",
       "    <tr>\n",
       "      <th>6</th>\n",
       "      <td>The Green Mile</td>\n",
       "    </tr>\n",
       "    <tr>\n",
       "      <th>7</th>\n",
       "      <td>Apollo 13</td>\n",
       "    </tr>\n",
       "    <tr>\n",
       "      <th>8</th>\n",
       "      <td>Cast Away</td>\n",
       "    </tr>\n",
       "    <tr>\n",
       "      <th>9</th>\n",
       "      <td>Charlie Wilson's War</td>\n",
       "    </tr>\n",
       "    <tr>\n",
       "      <th>10</th>\n",
       "      <td>The Polar Express</td>\n",
       "    </tr>\n",
       "    <tr>\n",
       "      <th>11</th>\n",
       "      <td>A League of Their Own</td>\n",
       "    </tr>\n",
       "  </tbody>\n",
       "</table>\n",
       "</div>"
      ],
      "text/plain": [
       "           Titulo_do_Filme\n",
       "0          You've Got Mail\n",
       "1     Sleepless in Seattle\n",
       "2   Joe Versus the Volcano\n",
       "3        That Thing You Do\n",
       "4              Cloud Atlas\n",
       "5        The Da Vinci Code\n",
       "6           The Green Mile\n",
       "7                Apollo 13\n",
       "8                Cast Away\n",
       "9     Charlie Wilson's War\n",
       "10       The Polar Express\n",
       "11   A League of Their Own"
      ]
     },
     "metadata": {},
     "output_type": "display_data"
    }
   ],
   "source": [
    "%%cypher\n",
    "\n",
    "MATCH (node)-[:ACTED_IN]->(node2:Movie)\n",
    "WHERE node.name='Tom Hanks'\n",
    "RETURN node2.title as Titulo_do_Filme\n"
   ]
  },
  {
   "cell_type": "markdown",
   "metadata": {},
   "source": [
    "## [Questão 1] Liste o nome de até 10 filmes lançados entre 1990 e 1999"
   ]
  },
  {
   "cell_type": "code",
   "execution_count": 61,
   "metadata": {
    "tags": [],
    "trusted": true
   },
   "outputs": [
    {
     "data": {
      "text/html": [
       "<div>\n",
       "<style scoped>\n",
       "    .dataframe tbody tr th:only-of-type {\n",
       "        vertical-align: middle;\n",
       "    }\n",
       "\n",
       "    .dataframe tbody tr th {\n",
       "        vertical-align: top;\n",
       "    }\n",
       "\n",
       "    .dataframe thead th {\n",
       "        text-align: right;\n",
       "    }\n",
       "</style>\n",
       "<table border=\"1\" class=\"dataframe\">\n",
       "  <thead>\n",
       "    <tr style=\"text-align: right;\">\n",
       "      <th></th>\n",
       "      <th>node.title</th>\n",
       "    </tr>\n",
       "  </thead>\n",
       "  <tbody>\n",
       "    <tr>\n",
       "      <th>0</th>\n",
       "      <td>The Matrix</td>\n",
       "    </tr>\n",
       "    <tr>\n",
       "      <th>1</th>\n",
       "      <td>The Devil's Advocate</td>\n",
       "    </tr>\n",
       "    <tr>\n",
       "      <th>2</th>\n",
       "      <td>A Few Good Men</td>\n",
       "    </tr>\n",
       "    <tr>\n",
       "      <th>3</th>\n",
       "      <td>As Good as It Gets</td>\n",
       "    </tr>\n",
       "    <tr>\n",
       "      <th>4</th>\n",
       "      <td>What Dreams May Come</td>\n",
       "    </tr>\n",
       "    <tr>\n",
       "      <th>5</th>\n",
       "      <td>Snow Falling on Cedars</td>\n",
       "    </tr>\n",
       "    <tr>\n",
       "      <th>6</th>\n",
       "      <td>You've Got Mail</td>\n",
       "    </tr>\n",
       "    <tr>\n",
       "      <th>7</th>\n",
       "      <td>Sleepless in Seattle</td>\n",
       "    </tr>\n",
       "    <tr>\n",
       "      <th>8</th>\n",
       "      <td>Joe Versus the Volcano</td>\n",
       "    </tr>\n",
       "    <tr>\n",
       "      <th>9</th>\n",
       "      <td>When Harry Met Sally</td>\n",
       "    </tr>\n",
       "  </tbody>\n",
       "</table>\n",
       "</div>"
      ],
      "text/plain": [
       "               node.title\n",
       "0              The Matrix\n",
       "1    The Devil's Advocate\n",
       "2          A Few Good Men\n",
       "3      As Good as It Gets\n",
       "4    What Dreams May Come\n",
       "5  Snow Falling on Cedars\n",
       "6         You've Got Mail\n",
       "7    Sleepless in Seattle\n",
       "8  Joe Versus the Volcano\n",
       "9    When Harry Met Sally"
      ]
     },
     "metadata": {},
     "output_type": "display_data"
    }
   ],
   "source": [
    "%%cypher\n",
    "MATCH (node:Movie)\n",
    "WHERE node.released>=1990 AND node.released <= 1999\n",
    "RETURN node.title  LIMIT 10"
   ]
  },
  {
   "cell_type": "markdown",
   "metadata": {},
   "source": [
    "## [Questão 2] Qual(is) o(s) nome(s) do(s) diretor(es) do filme Cloud Atlas?"
   ]
  },
  {
   "cell_type": "code",
   "execution_count": 62,
   "metadata": {
    "tags": [],
    "trusted": true
   },
   "outputs": [
    {
     "data": {
      "text/html": [
       "<div>\n",
       "<style scoped>\n",
       "    .dataframe tbody tr th:only-of-type {\n",
       "        vertical-align: middle;\n",
       "    }\n",
       "\n",
       "    .dataframe tbody tr th {\n",
       "        vertical-align: top;\n",
       "    }\n",
       "\n",
       "    .dataframe thead th {\n",
       "        text-align: right;\n",
       "    }\n",
       "</style>\n",
       "<table border=\"1\" class=\"dataframe\">\n",
       "  <thead>\n",
       "    <tr style=\"text-align: right;\">\n",
       "      <th></th>\n",
       "      <th>director.name</th>\n",
       "    </tr>\n",
       "  </thead>\n",
       "  <tbody>\n",
       "    <tr>\n",
       "      <th>0</th>\n",
       "      <td>Tom Tykwer</td>\n",
       "    </tr>\n",
       "    <tr>\n",
       "      <th>1</th>\n",
       "      <td>Lana Wachowski</td>\n",
       "    </tr>\n",
       "    <tr>\n",
       "      <th>2</th>\n",
       "      <td>Lilly Wachowski</td>\n",
       "    </tr>\n",
       "  </tbody>\n",
       "</table>\n",
       "</div>"
      ],
      "text/plain": [
       "     director.name\n",
       "0       Tom Tykwer\n",
       "1   Lana Wachowski\n",
       "2  Lilly Wachowski"
      ]
     },
     "metadata": {},
     "output_type": "display_data"
    }
   ],
   "source": [
    "%%cypher\n",
    "MATCH (director:Person)-[r:DIRECTED]->(movie:Movie)\n",
    "WHERE movie.title = \"Cloud Atlas\"\n",
    "Return director.name"
   ]
  },
  {
   "cell_type": "markdown",
   "metadata": {},
   "source": [
    "## [Questão 3] Quais são os nomes do outros atores que atuaram no filme Cloud Atlas?"
   ]
  },
  {
   "cell_type": "code",
   "execution_count": 63,
   "metadata": {
    "tags": [],
    "trusted": true
   },
   "outputs": [
    {
     "data": {
      "text/html": [
       "<div>\n",
       "<style scoped>\n",
       "    .dataframe tbody tr th:only-of-type {\n",
       "        vertical-align: middle;\n",
       "    }\n",
       "\n",
       "    .dataframe tbody tr th {\n",
       "        vertical-align: top;\n",
       "    }\n",
       "\n",
       "    .dataframe thead th {\n",
       "        text-align: right;\n",
       "    }\n",
       "</style>\n",
       "<table border=\"1\" class=\"dataframe\">\n",
       "  <thead>\n",
       "    <tr style=\"text-align: right;\">\n",
       "      <th></th>\n",
       "      <th>actor.name</th>\n",
       "    </tr>\n",
       "  </thead>\n",
       "  <tbody>\n",
       "    <tr>\n",
       "      <th>0</th>\n",
       "      <td>Tom Hanks</td>\n",
       "    </tr>\n",
       "    <tr>\n",
       "      <th>1</th>\n",
       "      <td>Jim Broadbent</td>\n",
       "    </tr>\n",
       "    <tr>\n",
       "      <th>2</th>\n",
       "      <td>Halle Berry</td>\n",
       "    </tr>\n",
       "    <tr>\n",
       "      <th>3</th>\n",
       "      <td>Hugo Weaving</td>\n",
       "    </tr>\n",
       "  </tbody>\n",
       "</table>\n",
       "</div>"
      ],
      "text/plain": [
       "      actor.name\n",
       "0      Tom Hanks\n",
       "1  Jim Broadbent\n",
       "2    Halle Berry\n",
       "3   Hugo Weaving"
      ]
     },
     "metadata": {},
     "output_type": "display_data"
    }
   ],
   "source": [
    "%%cypher\n",
    "MATCH (actor:Person)-[r:ACTED_IN]->(movie:Movie)\n",
    "WHERE movie.title = \"Cloud Atlas\"\n",
    "Return actor.name"
   ]
  },
  {
   "cell_type": "markdown",
   "metadata": {},
   "source": [
    "## [Questão 4] Existe algum filme em que o Tom Hanks tenha dirigido e atuado? Se sim, qual o nome e ano de lançamento?"
   ]
  },
  {
   "cell_type": "code",
   "execution_count": 64,
   "metadata": {
    "tags": [],
    "trusted": true
   },
   "outputs": [
    {
     "data": {
      "text/html": [
       "<div>\n",
       "<style scoped>\n",
       "    .dataframe tbody tr th:only-of-type {\n",
       "        vertical-align: middle;\n",
       "    }\n",
       "\n",
       "    .dataframe tbody tr th {\n",
       "        vertical-align: top;\n",
       "    }\n",
       "\n",
       "    .dataframe thead th {\n",
       "        text-align: right;\n",
       "    }\n",
       "</style>\n",
       "<table border=\"1\" class=\"dataframe\">\n",
       "  <thead>\n",
       "    <tr style=\"text-align: right;\">\n",
       "      <th></th>\n",
       "      <th>director.name</th>\n",
       "      <th>actor.name</th>\n",
       "      <th>movie.title</th>\n",
       "    </tr>\n",
       "  </thead>\n",
       "  <tbody>\n",
       "    <tr>\n",
       "      <th>0</th>\n",
       "      <td>Tom Hanks</td>\n",
       "      <td>Tom Hanks</td>\n",
       "      <td>That Thing You Do</td>\n",
       "    </tr>\n",
       "  </tbody>\n",
       "</table>\n",
       "</div>"
      ],
      "text/plain": [
       "  director.name actor.name        movie.title\n",
       "0     Tom Hanks  Tom Hanks  That Thing You Do"
      ]
     },
     "metadata": {},
     "output_type": "display_data"
    }
   ],
   "source": [
    "%%cypher\n",
    "MATCH (actor:Person)-[a:ACTED_IN]->(movie:Movie)<-[d:DIRECTED]-(director:Person)\n",
    "WHERE director.name = \"Tom Hanks\" AND actor.name = \"Tom Hanks\"\n",
    "Return director.name, actor.name, movie.title"
   ]
  },
  {
   "cell_type": "markdown",
   "metadata": {},
   "source": [
    "## [Questão 5] Liste o nome de 10 diretores que dirigiram filmes em que o Tom Hanks atuou"
   ]
  },
  {
   "cell_type": "markdown",
   "metadata": {},
   "source": [
    "dica:\n",
    "``` cypher\n",
    "MATCH (a)-[:ACTED_IN]->(m)<-[:DIRECTED]-(d) RETURN a,m,d LIMIT 10\n",
    "```                                                                           "
   ]
  },
  {
   "cell_type": "code",
   "execution_count": 65,
   "metadata": {
    "tags": [],
    "trusted": true
   },
   "outputs": [
    {
     "data": {
      "text/html": [
       "<div>\n",
       "<style scoped>\n",
       "    .dataframe tbody tr th:only-of-type {\n",
       "        vertical-align: middle;\n",
       "    }\n",
       "\n",
       "    .dataframe tbody tr th {\n",
       "        vertical-align: top;\n",
       "    }\n",
       "\n",
       "    .dataframe thead th {\n",
       "        text-align: right;\n",
       "    }\n",
       "</style>\n",
       "<table border=\"1\" class=\"dataframe\">\n",
       "  <thead>\n",
       "    <tr style=\"text-align: right;\">\n",
       "      <th></th>\n",
       "      <th>director.name</th>\n",
       "    </tr>\n",
       "  </thead>\n",
       "  <tbody>\n",
       "    <tr>\n",
       "      <th>0</th>\n",
       "      <td>Ron Howard</td>\n",
       "    </tr>\n",
       "    <tr>\n",
       "      <th>1</th>\n",
       "      <td>Nora Ephron</td>\n",
       "    </tr>\n",
       "    <tr>\n",
       "      <th>2</th>\n",
       "      <td>Penny Marshall</td>\n",
       "    </tr>\n",
       "    <tr>\n",
       "      <th>3</th>\n",
       "      <td>John Patrick Stanley</td>\n",
       "    </tr>\n",
       "    <tr>\n",
       "      <th>4</th>\n",
       "      <td>Tom Hanks</td>\n",
       "    </tr>\n",
       "    <tr>\n",
       "      <th>5</th>\n",
       "      <td>Ron Howard</td>\n",
       "    </tr>\n",
       "    <tr>\n",
       "      <th>6</th>\n",
       "      <td>Tom Tykwer</td>\n",
       "    </tr>\n",
       "    <tr>\n",
       "      <th>7</th>\n",
       "      <td>Lana Wachowski</td>\n",
       "    </tr>\n",
       "    <tr>\n",
       "      <th>8</th>\n",
       "      <td>Lilly Wachowski</td>\n",
       "    </tr>\n",
       "    <tr>\n",
       "      <th>9</th>\n",
       "      <td>Robert Zemeckis</td>\n",
       "    </tr>\n",
       "  </tbody>\n",
       "</table>\n",
       "</div>"
      ],
      "text/plain": [
       "          director.name\n",
       "0            Ron Howard\n",
       "1           Nora Ephron\n",
       "2        Penny Marshall\n",
       "3  John Patrick Stanley\n",
       "4             Tom Hanks\n",
       "5            Ron Howard\n",
       "6            Tom Tykwer\n",
       "7        Lana Wachowski\n",
       "8       Lilly Wachowski\n",
       "9       Robert Zemeckis"
      ]
     },
     "metadata": {},
     "output_type": "display_data"
    }
   ],
   "source": [
    "%%cypher\n",
    "MATCH (actor:Person)-[a:ACTED_IN]->(movie:Movie)<-[d:DIRECTED]-(director:Person)\n",
    "WHERE actor.name = \"Tom Hanks\"\n",
    "return director.name limit 10"
   ]
  },
  {
   "cell_type": "markdown",
   "metadata": {},
   "source": [
    "## [Questão 6] Existe algum filme em que ambos Kevin Bacon e Tom Cruise tenham atuado? Se sim, qual o nome e ano de laçamento?"
   ]
  },
  {
   "cell_type": "code",
   "execution_count": 66,
   "metadata": {
    "tags": [],
    "trusted": true
   },
   "outputs": [
    {
     "data": {
      "text/html": [
       "<div>\n",
       "<style scoped>\n",
       "    .dataframe tbody tr th:only-of-type {\n",
       "        vertical-align: middle;\n",
       "    }\n",
       "\n",
       "    .dataframe tbody tr th {\n",
       "        vertical-align: top;\n",
       "    }\n",
       "\n",
       "    .dataframe thead th {\n",
       "        text-align: right;\n",
       "    }\n",
       "</style>\n",
       "<table border=\"1\" class=\"dataframe\">\n",
       "  <thead>\n",
       "    <tr style=\"text-align: right;\">\n",
       "      <th></th>\n",
       "      <th>Titulo</th>\n",
       "      <th>Lancamento</th>\n",
       "    </tr>\n",
       "  </thead>\n",
       "  <tbody>\n",
       "    <tr>\n",
       "      <th>0</th>\n",
       "      <td>Apollo 13</td>\n",
       "      <td>1995</td>\n",
       "    </tr>\n",
       "  </tbody>\n",
       "</table>\n",
       "</div>"
      ],
      "text/plain": [
       "      Titulo  Lancamento\n",
       "0  Apollo 13        1995"
      ]
     },
     "metadata": {},
     "output_type": "display_data"
    }
   ],
   "source": [
    "%%cypher\n",
    "MATCH (tom:Person)-[act1:ACTED_IN]->(movie:Movie)<-[act2:ACTED_IN]-(kevin:Person)\n",
    "WHERE tom.name = \"Tom Hanks\" and kevin.name = \"Kevin Bacon\"\n",
    "return movie.title as Titulo, movie.released as Lancamento"
   ]
  },
  {
   "cell_type": "markdown",
   "metadata": {},
   "source": [
    "## [Questão 7] Liste o nome de 10 pessoas que também atuaram em filmes com o Tom Hanks"
   ]
  },
  {
   "cell_type": "code",
   "execution_count": 67,
   "metadata": {
    "tags": [],
    "trusted": true
   },
   "outputs": [
    {
     "data": {
      "text/html": [
       "<div>\n",
       "<style scoped>\n",
       "    .dataframe tbody tr th:only-of-type {\n",
       "        vertical-align: middle;\n",
       "    }\n",
       "\n",
       "    .dataframe tbody tr th {\n",
       "        vertical-align: top;\n",
       "    }\n",
       "\n",
       "    .dataframe thead th {\n",
       "        text-align: right;\n",
       "    }\n",
       "</style>\n",
       "<table border=\"1\" class=\"dataframe\">\n",
       "  <thead>\n",
       "    <tr style=\"text-align: right;\">\n",
       "      <th></th>\n",
       "      <th>others.name</th>\n",
       "    </tr>\n",
       "  </thead>\n",
       "  <tbody>\n",
       "    <tr>\n",
       "      <th>0</th>\n",
       "      <td>Ed Harris</td>\n",
       "    </tr>\n",
       "    <tr>\n",
       "      <th>1</th>\n",
       "      <td>Gary Sinise</td>\n",
       "    </tr>\n",
       "    <tr>\n",
       "      <th>2</th>\n",
       "      <td>Kevin Bacon</td>\n",
       "    </tr>\n",
       "    <tr>\n",
       "      <th>3</th>\n",
       "      <td>Bill Paxton</td>\n",
       "    </tr>\n",
       "    <tr>\n",
       "      <th>4</th>\n",
       "      <td>Parker Posey</td>\n",
       "    </tr>\n",
       "    <tr>\n",
       "      <th>5</th>\n",
       "      <td>Greg Kinnear</td>\n",
       "    </tr>\n",
       "    <tr>\n",
       "      <th>6</th>\n",
       "      <td>Meg Ryan</td>\n",
       "    </tr>\n",
       "    <tr>\n",
       "      <th>7</th>\n",
       "      <td>Steve Zahn</td>\n",
       "    </tr>\n",
       "    <tr>\n",
       "      <th>8</th>\n",
       "      <td>Dave Chappelle</td>\n",
       "    </tr>\n",
       "    <tr>\n",
       "      <th>9</th>\n",
       "      <td>Madonna</td>\n",
       "    </tr>\n",
       "  </tbody>\n",
       "</table>\n",
       "</div>"
      ],
      "text/plain": [
       "      others.name\n",
       "0       Ed Harris\n",
       "1     Gary Sinise\n",
       "2     Kevin Bacon\n",
       "3     Bill Paxton\n",
       "4    Parker Posey\n",
       "5    Greg Kinnear\n",
       "6        Meg Ryan\n",
       "7      Steve Zahn\n",
       "8  Dave Chappelle\n",
       "9         Madonna"
      ]
     },
     "metadata": {},
     "output_type": "display_data"
    }
   ],
   "source": [
    "%%cypher\n",
    "MATCH (tom:Person)-[act1:ACTED_IN]->(movie:Movie)<-[act2:ACTED_IN]-(others:Person)\n",
    "WHERE tom.name = \"Tom Hanks\"\n",
    "return others.name limit 10"
   ]
  },
  {
   "cell_type": "markdown",
   "metadata": {},
   "source": [
    "## [Questão extra] Quem mais produziu filmes do Tom Hanks e do Kevin Bacon?"
   ]
  },
  {
   "cell_type": "code",
   "execution_count": 68,
   "metadata": {
    "tags": [],
    "trusted": true
   },
   "outputs": [
    {
     "data": {
      "text/html": [
       "<div>\n",
       "<style scoped>\n",
       "    .dataframe tbody tr th:only-of-type {\n",
       "        vertical-align: middle;\n",
       "    }\n",
       "\n",
       "    .dataframe tbody tr th {\n",
       "        vertical-align: top;\n",
       "    }\n",
       "\n",
       "    .dataframe thead th {\n",
       "        text-align: right;\n",
       "    }\n",
       "</style>\n",
       "<table border=\"1\" class=\"dataframe\">\n",
       "  <thead>\n",
       "    <tr style=\"text-align: right;\">\n",
       "      <th></th>\n",
       "      <th>producer.name</th>\n",
       "      <th>qtyMovies</th>\n",
       "    </tr>\n",
       "  </thead>\n",
       "  <tbody>\n",
       "    <tr>\n",
       "      <th>0</th>\n",
       "      <td>Stefan Arndt</td>\n",
       "      <td>1</td>\n",
       "    </tr>\n",
       "  </tbody>\n",
       "</table>\n",
       "</div>"
      ],
      "text/plain": [
       "  producer.name  qtyMovies\n",
       "0  Stefan Arndt          1"
      ]
     },
     "metadata": {},
     "output_type": "display_data"
    }
   ],
   "source": [
    "%%cypher\n",
    "MATCH (actor:Person)-[a:ACTED_IN]->(movie:Movie)<-[p:PRODUCED]-(producer:Person)\n",
    "WITH actor, producer, count(movie) as qtyMovies\n",
    "WHERE actor.name = \"Tom Hanks\" OR actor.name = \"Kevin Bacon\"\n",
    "return producer.name, qtyMovies"
   ]
  },
  {
   "cell_type": "markdown",
   "metadata": {},
   "source": [
    "## [Questão Extra] Quem tem mais seguidores?"
   ]
  },
  {
   "cell_type": "code",
   "execution_count": 69,
   "metadata": {
    "trusted": true
   },
   "outputs": [
    {
     "data": {
      "text/html": [
       "<div>\n",
       "<style scoped>\n",
       "    .dataframe tbody tr th:only-of-type {\n",
       "        vertical-align: middle;\n",
       "    }\n",
       "\n",
       "    .dataframe tbody tr th {\n",
       "        vertical-align: top;\n",
       "    }\n",
       "\n",
       "    .dataframe thead th {\n",
       "        text-align: right;\n",
       "    }\n",
       "</style>\n",
       "<table border=\"1\" class=\"dataframe\">\n",
       "  <thead>\n",
       "    <tr style=\"text-align: right;\">\n",
       "      <th></th>\n",
       "      <th>Nome</th>\n",
       "      <th>Seguidores</th>\n",
       "    </tr>\n",
       "  </thead>\n",
       "  <tbody>\n",
       "    <tr>\n",
       "      <th>0</th>\n",
       "      <td>Jessica Thompson</td>\n",
       "      <td>2</td>\n",
       "    </tr>\n",
       "    <tr>\n",
       "      <th>1</th>\n",
       "      <td>Angela Scope</td>\n",
       "      <td>1</td>\n",
       "    </tr>\n",
       "  </tbody>\n",
       "</table>\n",
       "</div>"
      ],
      "text/plain": [
       "               Nome  Seguidores\n",
       "0  Jessica Thompson           2\n",
       "1      Angela Scope           1"
      ]
     },
     "metadata": {},
     "output_type": "display_data"
    }
   ],
   "source": [
    "%%cypher\n",
    "MATCH (follower:Person)-[f:FOLLOWS]->(followed:Person)\n",
    "WITH followed, count(followed) as qtyFollows\n",
    "return followed.name as Nome, qtyFollows as Seguidores\n",
    "ORDER BY Seguidores DESC"
   ]
  },
  {
   "cell_type": "markdown",
   "metadata": {},
   "source": [
    "## [Questão Extra] Liste o(s) nomeQ(s) da(s) pessoa(s) que produziram, escreveram e dirigiram o mesmo filme"
   ]
  },
  {
   "cell_type": "code",
   "execution_count": 70,
   "metadata": {
    "trusted": true
   },
   "outputs": [
    {
     "data": {
      "text/html": [
       "<div>\n",
       "<style scoped>\n",
       "    .dataframe tbody tr th:only-of-type {\n",
       "        vertical-align: middle;\n",
       "    }\n",
       "\n",
       "    .dataframe tbody tr th {\n",
       "        vertical-align: top;\n",
       "    }\n",
       "\n",
       "    .dataframe thead th {\n",
       "        text-align: right;\n",
       "    }\n",
       "</style>\n",
       "<table border=\"1\" class=\"dataframe\">\n",
       "  <thead>\n",
       "    <tr style=\"text-align: right;\">\n",
       "      <th></th>\n",
       "      <th>person.name</th>\n",
       "      <th>movie.title</th>\n",
       "    </tr>\n",
       "  </thead>\n",
       "  <tbody>\n",
       "    <tr>\n",
       "      <th>0</th>\n",
       "      <td>Cameron Crowe</td>\n",
       "      <td>Jerry Maguire</td>\n",
       "    </tr>\n",
       "    <tr>\n",
       "      <th>1</th>\n",
       "      <td>Nancy Meyers</td>\n",
       "      <td>Something's Gotta Give</td>\n",
       "    </tr>\n",
       "  </tbody>\n",
       "</table>\n",
       "</div>"
      ],
      "text/plain": [
       "     person.name             movie.title\n",
       "0  Cameron Crowe           Jerry Maguire\n",
       "1   Nancy Meyers  Something's Gotta Give"
      ]
     },
     "metadata": {},
     "output_type": "display_data"
    }
   ],
   "source": [
    "%%cypher\n",
    "MATCH \n",
    "(person:Person)-[:PRODUCED]->(movie:Movie), \n",
    "(person)-[:DIRECTED]->(movie),\n",
    "(person)-[:WROTE]->(movie)\n",
    "RETURN person.name, movie.title"
   ]
  },
  {
   "cell_type": "markdown",
   "metadata": {},
   "source": [
    "## [Questão Extra] Qual a média de notas (reviewed) do filme The Replacements?"
   ]
  },
  {
   "cell_type": "code",
   "execution_count": 71,
   "metadata": {
    "tags": [],
    "trusted": true
   },
   "outputs": [
    {
     "data": {
      "text/html": [
       "<div>\n",
       "<style scoped>\n",
       "    .dataframe tbody tr th:only-of-type {\n",
       "        vertical-align: middle;\n",
       "    }\n",
       "\n",
       "    .dataframe tbody tr th {\n",
       "        vertical-align: top;\n",
       "    }\n",
       "\n",
       "    .dataframe thead th {\n",
       "        text-align: right;\n",
       "    }\n",
       "</style>\n",
       "<table border=\"1\" class=\"dataframe\">\n",
       "  <thead>\n",
       "    <tr style=\"text-align: right;\">\n",
       "      <th></th>\n",
       "      <th>movie.title</th>\n",
       "      <th>avg(r.rating)</th>\n",
       "    </tr>\n",
       "  </thead>\n",
       "  <tbody>\n",
       "    <tr>\n",
       "      <th>0</th>\n",
       "      <td>The Replacements</td>\n",
       "      <td>75.666667</td>\n",
       "    </tr>\n",
       "  </tbody>\n",
       "</table>\n",
       "</div>"
      ],
      "text/plain": [
       "        movie.title  avg(r.rating)\n",
       "0  The Replacements      75.666667"
      ]
     },
     "metadata": {},
     "output_type": "display_data"
    }
   ],
   "source": [
    "%%cypher\n",
    "MATCH (movie:Movie)<-[r:REVIEWED]-(reviewer:Person)\n",
    "\n",
    "WHERE movie.title = \"The Replacements\"\n",
    "return movie.title, avg(r.rating)"
   ]
  },
  {
   "cell_type": "markdown",
   "metadata": {},
   "source": [
    "## Conhecendo um pouco mais Cypher\n",
    "\n",
    "https://neo4j.com/docs/cypher-manual/3.5/"
   ]
  },
  {
   "cell_type": "markdown",
   "metadata": {},
   "source": [
    "## Filmes e atores com 4 nós de separação de Kevin Bacon\n",
    "``` cypher\n",
    "MATCH (bacon:Person {name:\"Kevin Bacon\"})-[*1..4]-(hollywood)\n",
    "RETURN DISTINCT hollywood\n",
    "```\n"
   ]
  },
  {
   "cell_type": "markdown",
   "metadata": {},
   "source": [
    "## O menor caminho entre Kevin Bacon e Meg Ryan\n",
    "``` cypher\n",
    "MATCH p=shortestPath(\n",
    "  (bacon:Person {name:\"Kevin Bacon\"})-[*]-(meg:Person {name:\"Meg Ryan\"})\n",
    ")\n",
    "RETURN p\n",
    "```"
   ]
  },
  {
   "cell_type": "code",
   "execution_count": null,
   "metadata": {},
   "outputs": [],
   "source": []
  }
 ],
 "metadata": {
  "kernelspec": {
   "display_name": "Python 3",
   "language": "python",
   "name": "python3"
  },
  "language_info": {
   "codemirror_mode": {
    "name": "ipython",
    "version": 3
   },
   "file_extension": ".py",
   "mimetype": "text/x-python",
   "name": "python",
   "nbconvert_exporter": "python",
   "pygments_lexer": "ipython3",
   "version": "3.10.16"
  }
 },
 "nbformat": 4,
 "nbformat_minor": 4
}
